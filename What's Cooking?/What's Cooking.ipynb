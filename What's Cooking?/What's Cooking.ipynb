{
 "cells": [
  {
   "cell_type": "code",
   "execution_count": 1,
   "metadata": {},
   "outputs": [],
   "source": [
    "import json\n",
    "import os\n",
    "import numpy as np"
   ]
  },
  {
   "cell_type": "code",
   "execution_count": 2,
   "metadata": {},
   "outputs": [],
   "source": [
    "os.chdir('/Users/supperxxxs/Desktop/kaggle/cooking')\n",
    "train = json.loads(open('train.json').read())\n",
    "test = json.loads(open('test.json').read())"
   ]
  },
  {
   "cell_type": "code",
   "execution_count": 3,
   "metadata": {},
   "outputs": [
    {
     "name": "stdout",
     "output_type": "stream",
     "text": [
      "20\n",
      "6714\n",
      "39774\n",
      "{'chinese': 0, 'british': 1, 'thai': 2, 'japanese': 3, 'mexican': 4, 'korean': 5, 'indian': 6, 'greek': 7, 'cajun_creole': 8, 'southern_us': 9, 'filipino': 10, 'jamaican': 11, 'brazilian': 12, 'irish': 13, 'spanish': 14, 'french': 15, 'vietnamese': 16, 'russian': 17, 'italian': 18, 'moroccan': 19}\n"
     ]
    }
   ],
   "source": [
    "cat = set()\n",
    "lbl = set()\n",
    "sample = set()\n",
    "\n",
    "for k in train:\n",
    "    ing = k['ingredients']\n",
    "    for u in ing:\n",
    "        cat.add(u)\n",
    "    lbl.add(k['cuisine'])\n",
    "    sample.add(k['id'])\n",
    "\n",
    "num_of_ingredients = len(cat)\n",
    "num_of_cuisine = len(lbl)\n",
    "num_of_sample = len(sample)\n",
    "print(num_of_cuisine)\n",
    "print(num_of_ingredients)\n",
    "print(len(sample))\n",
    "\n",
    "cat_map = {}\n",
    "for i,t in enumerate(list(cat)):\n",
    "    cat_map[t] = i\n",
    "#print(cat_map)\n",
    "lbl_map = {}\n",
    "for i,t in enumerate(list(lbl)):\n",
    "    lbl_map[t] = i\n",
    "print (lbl_map)"
   ]
  },
  {
   "cell_type": "code",
   "execution_count": 4,
   "metadata": {},
   "outputs": [
    {
     "name": "stdout",
     "output_type": "stream",
     "text": [
      "[ 7  9 10 ... 13  0  4]\n",
      "[[0 0 0 ... 0 0 0]\n",
      " [0 0 0 ... 0 0 0]\n",
      " [0 0 0 ... 0 0 0]\n",
      " ...\n",
      " [0 0 0 ... 0 0 0]\n",
      " [0 0 0 ... 0 0 0]\n",
      " [0 0 0 ... 0 0 0]]\n"
     ]
    }
   ],
   "source": [
    "train_data = []\n",
    "train_label = []\n",
    "features  = []\n",
    "for k in train:\n",
    "    ing = k['ingredients']\n",
    "    features = [0]*num_of_ingredients\n",
    "    for u in ing:\n",
    "        features[cat_map[u]] = 1\n",
    "    train_data.append(features)\n",
    "    train_label.append(lbl_map[k['cuisine']])\n",
    "\n",
    "\n",
    "train_data, train_label = np.array(train_data), np.array(train_label)\n",
    "train_data.shape, train_label.shape\n",
    "print(train_label)\n",
    "print(train_data)"
   ]
  },
  {
   "cell_type": "code",
   "execution_count": 5,
   "metadata": {},
   "outputs": [
    {
     "name": "stdout",
     "output_type": "stream",
     "text": [
      "['baking powder', 'eggs', 'all-purpose flour', 'raisins', 'milk', 'white sugar']\n"
     ]
    }
   ],
   "source": [
    "print(test[0]['ingredients'])"
   ]
  },
  {
   "cell_type": "code",
   "execution_count": 6,
   "metadata": {},
   "outputs": [],
   "source": [
    "test_data = []\n",
    "cat1 = set()\n",
    "\n",
    "for a in test:\n",
    "    ing = a['ingredients']\n",
    "    for b in ing:\n",
    "        cat1.add(b) \n",
    "number_of_ingredient = len(cat) \n",
    "    \n",
    "for a in test:\n",
    "    ing = a['ingredients'] \n",
    "    features = [0]*number_of_ingredient # use the same length of the list in train data set\n",
    "    for b in ing:\n",
    "        if b not in cat_map.keys():\n",
    "            continue\n",
    "        features[cat_map[b]] = 1\n",
    "    test_data.append(features)\n",
    "test_data = np.array(test_data)"
   ]
  },
  {
   "cell_type": "code",
   "execution_count": 7,
   "metadata": {},
   "outputs": [
    {
     "name": "stderr",
     "output_type": "stream",
     "text": [
      "/anaconda3/lib/python3.6/site-packages/sklearn/cross_validation.py:41: DeprecationWarning: This module was deprecated in version 0.18 in favor of the model_selection module into which all the refactored classes and functions are moved. Also note that the interface of the new CV iterators are different from that of this module. This module will be removed in 0.20.\n",
      "  \"This module will be removed in 0.20.\", DeprecationWarning)\n"
     ]
    },
    {
     "name": "stdout",
     "output_type": "stream",
     "text": [
      "0.7799567556695328\n"
     ]
    }
   ],
   "source": [
    "from sklearn.linear_model import LogisticRegression\n",
    "logreg = LogisticRegression()\n",
    "from sklearn.cross_validation import train_test_split\n",
    "x_train, x_test, y_train, y_test = train_test_split(train_data, train_label)\n",
    "from sklearn import metrics, cross_validation\n",
    "pred = cross_validation.cross_val_predict(logreg, train_data, train_label,cv=5)\n",
    "accuracy = metrics.accuracy_score(train_label,pred)\n",
    "print(accuracy)\n"
   ]
  },
  {
   "cell_type": "code",
   "execution_count": 8,
   "metadata": {},
   "outputs": [],
   "source": [
    "logreg.fit(train_data, train_label)\n",
    "result = logreg.predict(test_data)"
   ]
  },
  {
   "cell_type": "code",
   "execution_count": 9,
   "metadata": {},
   "outputs": [],
   "source": [
    "import pandas as pd\n",
    "test = pd.read_json('test.json')\n",
    "\n",
    "inv_map = {}\n",
    "for i in lbl_map:\n",
    "    inv_map[lbl_map[i]]=i\n",
    "temp = []\n",
    "for i in result:\n",
    "    temp.append(inv_map[i]);\n",
    "\n",
    "test['cuisine'] = temp\n",
    "test = test.drop('ingredients', axis = 1)\n",
    "test.to_csv('output.csv',index = False)\n"
   ]
  }
 ],
 "metadata": {
  "kernelspec": {
   "display_name": "Python 3",
   "language": "python",
   "name": "python3"
  },
  "language_info": {
   "codemirror_mode": {
    "name": "ipython",
    "version": 3
   },
   "file_extension": ".py",
   "mimetype": "text/x-python",
   "name": "python",
   "nbconvert_exporter": "python",
   "pygments_lexer": "ipython3",
   "version": "3.6.5"
  }
 },
 "nbformat": 4,
 "nbformat_minor": 2
}
